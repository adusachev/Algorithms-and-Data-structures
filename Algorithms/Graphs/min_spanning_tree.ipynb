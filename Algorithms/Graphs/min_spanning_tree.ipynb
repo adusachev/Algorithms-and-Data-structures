{
 "cells": [
  {
   "cell_type": "code",
   "execution_count": 22,
   "metadata": {},
   "outputs": [],
   "source": [
    "import networkx as nx"
   ]
  },
  {
   "cell_type": "code",
   "execution_count": 23,
   "metadata": {},
   "outputs": [],
   "source": [
    "class DisjointSetsSystem:\n",
    "    \"\"\"\n",
    "    Система непересекающихся множеств с произвольными данными.\n",
    "    Все один в один как в обычном DisjointSet, только тут\n",
    "    self.parent и self.rank - словари, где ключи - наши данные(например буквы)\n",
    "    В self.parent значения(родители) будут того же типа что и ключи(тоже буквами на этом примере)\n",
    "    \"\"\"\n",
    "\n",
    "    def __init__(self):\n",
    "        self.parent = dict()\n",
    "        self.rank = dict()\n",
    "\n",
    "    def make_set(self, elem):\n",
    "        self.parent[elem] = elem\n",
    "        self.rank[elem] = 0\n",
    "\n",
    "\n",
    "    def find(self, elem):\n",
    "        if elem != self.parent[elem]:\n",
    "            self.parent[elem] = DisjointSetsSystem.find(self, self.parent[elem])\n",
    "        return self.parent[elem]\n",
    "\n",
    "    # при равных рангах вершина elem2 подвешивается к вершине elem1 (!)\n",
    "    def union(self, elem1, elem2):\n",
    "        id_1 = DisjointSetsSystem.find(self, elem1)\n",
    "        id_2 = DisjointSetsSystem.find(self, elem2)\n",
    "        if id_1 == id_2:\n",
    "            return\n",
    "        if self.rank[id_2] > self.rank[id_1]:\n",
    "            self.parent[id_1] = id_2\n",
    "        else:\n",
    "            self.parent[id_2] = id_1\n",
    "            if self.rank[id_1] == self.rank[id_2]:\n",
    "                self.rank[id_1] += 1\n",
    "    "
   ]
  },
  {
   "cell_type": "code",
   "execution_count": 24,
   "metadata": {},
   "outputs": [],
   "source": [
    "def read_graph():\n",
    "    n, m = map(int, input().split())\n",
    "    G = {}\n",
    "    # далее m строк: \"А Б вес\"\n",
    "    for i in range(m):\n",
    "        a, b, weight = input().split()\n",
    "        weight = float(weight)\n",
    "        add_edge(G, a, b, weight)\n",
    "        add_edge(G, b, a, weight)\n",
    "    return G\n",
    "\n",
    "def add_edge(G, a, b, weight):\n",
    "    # делаю словарь словарей смежности:\n",
    "    if a not in G:\n",
    "        G[a] = {b: weight}\n",
    "    else:\n",
    "        G[a][b] = weight"
   ]
  },
  {
   "cell_type": "code",
   "execution_count": 25,
   "metadata": {},
   "outputs": [],
   "source": [
    "def test_graph():\n",
    "    G = {'A': {'B': 7.0, 'D': 5.0},\n",
    "         'B': {'A': 7.0, 'C': 8.0, 'D': 9.0, 'E': 7.0},\n",
    "         'D': {'A': 5.0, 'B': 9.0, 'E': 15.0, 'F': 6.0},\n",
    "         'C': {'B': 8.0, 'E': 5.0},\n",
    "         'E': {'B': 7.0, 'C': 5.0, 'D': 15.0, 'F': 8.0, 'G': 9.0},\n",
    "         'F': {'D': 6.0, 'E': 8.0, 'G': 11.0},\n",
    "         'G': {'E': 9.0, 'F': 11.0}}\n",
    "    G1 = {'A': {'B': 1, 'C': 10},\n",
    "         'B': {'A': 1, 'C': 2},\n",
    "         'C': {'A': 10, 'B': 2}}\n",
    "    G2 = {'A': {'B': 1, 'C': 2},\n",
    "         'B': {'A': 1, 'C': 3, 'D': 4, 'E': 2, 'G': 8},\n",
    "         'C': {'A': 2, 'B': 3, 'E': 5},\n",
    "         'D': {'B': 4, 'F': 3, 'G': 4, 'E': 6},\n",
    "         'E': {'C': 5, 'B': 2, 'D': 6, 'G': 5, 'H': 5},\n",
    "         'F': {'D': 3, 'G': 2},\n",
    "         'G': {'F': 2, 'D': 4, 'B': 8, 'E': 5, 'H': 6},\n",
    "         'H': {'G': 6, 'E': 5}}\n",
    "    return G"
   ]
  },
  {
   "cell_type": "code",
   "execution_count": 26,
   "metadata": {},
   "outputs": [],
   "source": [
    "def sort_edges(G):\n",
    "    \"\"\"\n",
    "    Сортирует все ребра неориентированного графа по неубыванию веса\n",
    "    \"\"\"\n",
    "    edges = []\n",
    "    edges_1 = set()\n",
    "    for vertex in G:\n",
    "        for neighbour in G[vertex]:\n",
    "            v = str(vertex)\n",
    "            neigh = str(neighbour)\n",
    "            edge1 = v + neigh\n",
    "            edge2 = neigh + v\n",
    "            weight = G[vertex][neighbour]\n",
    "            if (edge1, weight) not in edges_1 and (edge2, weight) not in edges_1:\n",
    "                edges.append((edge1, weight))\n",
    "                edges_1.add((edge1, weight))\n",
    "    edges.sort(key=lambda x: x[1])\n",
    "    return edges"
   ]
  },
  {
   "cell_type": "code",
   "execution_count": 27,
   "metadata": {},
   "outputs": [],
   "source": [
    "def min_spanning_tree(G):\n",
    "    trees = DisjointSetsSystem()\n",
    "    for vertex in G:\n",
    "        trees.make_set(vertex)\n",
    "    ans = []\n",
    "    summ = []\n",
    "    for edge in sort_edges(G):\n",
    "        end1 = edge[0][0]\n",
    "        end2 = edge[0][1]\n",
    "        weight = edge[1]\n",
    "        if trees.find(end1) != trees.find(end2):\n",
    "            trees.union(end2, end1)\n",
    "            ans.append(end1+end2)\n",
    "            summ.append(weight)\n",
    "#     print(int(sum(summ)))\n",
    "    return ans\n",
    "\n",
    "\n",
    "\n",
    "\n",
    "def main():\n",
    "    G = read_graph()\n",
    "    min_spanning_tree(G)\n"
   ]
  },
  {
   "cell_type": "code",
   "execution_count": 28,
   "metadata": {},
   "outputs": [],
   "source": [
    "G = test_graph()"
   ]
  },
  {
   "cell_type": "code",
   "execution_count": 29,
   "metadata": {},
   "outputs": [],
   "source": [
    "tree = min_spanning_tree(G)"
   ]
  },
  {
   "cell_type": "code",
   "execution_count": 30,
   "metadata": {},
   "outputs": [
    {
     "data": {
      "text/plain": [
       "['AD', 'CE', 'DF', 'AB', 'BE', 'EG']"
      ]
     },
     "execution_count": 30,
     "metadata": {},
     "output_type": "execute_result"
    }
   ],
   "source": [
    "tree"
   ]
  },
  {
   "cell_type": "code",
   "execution_count": 31,
   "metadata": {},
   "outputs": [
    {
     "data": {
      "image/png": "[encoded data removed]",
      "text/plain": [
       "<Figure size 432x288 with 1 Axes>"
      ]
     },
     "metadata": {},
     "output_type": "display_data"
    }
   ],
   "source": [
    "G = nx.Graph(G)\n",
    "nx.draw(G, with_labels=True)"
   ]
  },
  {
   "cell_type": "code",
   "execution_count": 32,
   "metadata": {},
   "outputs": [
    {
     "data": {
      "text/plain": [
       "EdgeView([('A', 'B'), ('A', 'D'), ('B', 'C'), ('B', 'D'), ('B', 'E'), ('D', 'E'), ('D', 'F'), ('C', 'E'), ('E', 'F'), ('E', 'G'), ('F', 'G')])"
      ]
     },
     "execution_count": 32,
     "metadata": {},
     "output_type": "execute_result"
    }
   ],
   "source": [
    "G.edges"
   ]
  },
  {
   "cell_type": "code",
   "execution_count": null,
   "metadata": {},
   "outputs": [],
   "source": []
  },
  {
   "cell_type": "markdown",
   "metadata": {},
   "source": [
    "**Выделяем ребра**"
   ]
  },
  {
   "cell_type": "code",
   "execution_count": 33,
   "metadata": {},
   "outputs": [],
   "source": [
    "for e in G.edges:\n",
    "    G[e[0]][e[1]]['color'] = 'black'\n",
    "for e in tree:\n",
    "    G[e[0]][e[1]]['color'] = 'red'"
   ]
  },
  {
   "cell_type": "code",
   "execution_count": 34,
   "metadata": {},
   "outputs": [],
   "source": [
    "edge_color_list = [ G[e[0]][e[1]]['color'] for e in G.edges() ]"
   ]
  },
  {
   "cell_type": "code",
   "execution_count": 35,
   "metadata": {},
   "outputs": [
    {
     "data": {
      "image/png": "[encoded data removed]",
      "text/plain": [
       "<Figure size 432x288 with 1 Axes>"
      ]
     },
     "metadata": {},
     "output_type": "display_data"
    }
   ],
   "source": [
    "nx.draw(G, edge_color=edge_color_list, with_labels=True)"
   ]
  },
  {
   "cell_type": "code",
   "execution_count": 36,
   "metadata": {},
   "outputs": [
    {
     "data": {
      "text/plain": [
       "['AD', 'CE', 'DF', 'AB', 'BE', 'EG']"
      ]
     },
     "execution_count": 36,
     "metadata": {},
     "output_type": "execute_result"
    }
   ],
   "source": [
    "tree"
   ]
  },
  {
   "cell_type": "code",
   "execution_count": 37,
   "metadata": {},
   "outputs": [
    {
     "data": {
      "text/plain": [
       "{'color': 'red'}"
      ]
     },
     "execution_count": 37,
     "metadata": {},
     "output_type": "execute_result"
    }
   ],
   "source": [
    "G['A']['B']"
   ]
  },
  {
   "cell_type": "code",
   "execution_count": 38,
   "metadata": {},
   "outputs": [
    {
     "data": {
      "text/plain": [
       "['red',\n",
       " 'red',\n",
       " 'black',\n",
       " 'black',\n",
       " 'red',\n",
       " 'black',\n",
       " 'red',\n",
       " 'red',\n",
       " 'black',\n",
       " 'red',\n",
       " 'black']"
      ]
     },
     "execution_count": 38,
     "metadata": {},
     "output_type": "execute_result"
    }
   ],
   "source": [
    "edge_color_list"
   ]
  },
  {
   "cell_type": "markdown",
   "metadata": {},
   "source": [
    "**Выделяем вершины**"
   ]
  },
  {
   "cell_type": "code",
   "execution_count": 40,
   "metadata": {},
   "outputs": [],
   "source": [
    "G.nodes['G']['color'] = 'blue'"
   ]
  },
  {
   "cell_type": "code",
   "execution_count": 41,
   "metadata": {},
   "outputs": [
    {
     "data": {
      "text/plain": [
       "{'color': 'blue'}"
      ]
     },
     "execution_count": 41,
     "metadata": {},
     "output_type": "execute_result"
    }
   ],
   "source": [
    "G.nodes['G']"
   ]
  },
  {
   "cell_type": "code",
   "execution_count": 44,
   "metadata": {},
   "outputs": [],
   "source": [
    "highlighted_nodes = ['A', 'B', 'C', 'D']\n",
    "\n",
    "for n in G.nodes:\n",
    "    G.nodes[n]['color'] = '0.5'\n",
    "    \n",
    "for n in highlighted_nodes:\n",
    "    G.nodes[n]['color'] = 'red'\n",
    "    \n",
    "node_color_list = [ G.nodes[n]['color'] for n in G.nodes ]"
   ]
  },
  {
   "cell_type": "code",
   "execution_count": 45,
   "metadata": {},
   "outputs": [
    {
     "data": {
      "text/plain": [
       "['red', 'red', 'red', 'red', '0.5', '0.5', '0.5']"
      ]
     },
     "execution_count": 45,
     "metadata": {},
     "output_type": "execute_result"
    }
   ],
   "source": [
    "node_color_list"
   ]
  },
  {
   "cell_type": "code",
   "execution_count": 46,
   "metadata": {},
   "outputs": [
    {
     "data": {
      "image/png": "[encoded data removed]",
      "text/plain": [
       "<Figure size 432x288 with 1 Axes>"
      ]
     },
     "metadata": {},
     "output_type": "display_data"
    }
   ],
   "source": [
    "nx.draw(G, with_labels=True, node_color=node_color_list)"
   ]
  },
  {
   "cell_type": "code",
   "execution_count": null,
   "metadata": {},
   "outputs": [],
   "source": []
  }
 ],
 "metadata": {
  "kernelspec": {
   "display_name": "Python 3",
   "language": "python",
   "name": "python3"
  },
  "language_info": {
   "codemirror_mode": {
    "name": "ipython",
    "version": 3
   },
   "file_extension": ".py",
   "mimetype": "text/x-python",
   "name": "python",
   "nbconvert_exporter": "python",
   "pygments_lexer": "ipython3",
   "version": "3.7.6"
  }
 },
 "nbformat": 4,
 "nbformat_minor": 4
}
